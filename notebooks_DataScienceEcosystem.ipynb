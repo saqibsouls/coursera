{
  "metadata": {
    "kernelspec": {
      "name": "python",
      "display_name": "Python (Pyodide)",
      "language": "python"
    },
    "language_info": {
      "codemirror_mode": {
        "name": "python",
        "version": 3
      },
      "file_extension": ".py",
      "mimetype": "text/x-python",
      "name": "python",
      "nbconvert_exporter": "python",
      "pygments_lexer": "ipython3",
      "version": "3.8"
    }
  },
  "nbformat_minor": 5,
  "nbformat": 4,
  "cells": [
    {
      "cell_type": "markdown",
      "source": "<h1>Data Science Tools and Ecosystem</h1>",
      "metadata": {},
      "id": "7d79bf69-f04b-400c-87e6-19df6193d65d"
    },
    {
      "cell_type": "markdown",
      "source": "In this notebook, Data Science Tools and Ecosystem are summarized.",
      "metadata": {},
      "id": "359e597e-7ba1-4730-9695-b3c0c09ce15a"
    },
    {
      "cell_type": "markdown",
      "source": "Some of the popular languages that Data Scientists use are:\n1. Python    \n2. SQL     \n3. Java\n4. Julia\n5. Hadoob",
      "metadata": {},
      "id": "d2700ba3-55af-4fc5-8bd8-c913f0230208"
    },
    {
      "cell_type": "markdown",
      "source": "Some of the commonly used libraries used by Data Scientists include:\n1. NumPy\n2. Scipy\n3. Matplotlib\n4. ggplot2",
      "metadata": {},
      "id": "8ed92fb0-e7e9-4060-89c0-b73761078146"
    },
    {
      "cell_type": "markdown",
      "source": "<table>\n   <tr><th> Data Science Tools</th></tr>\n    <tr><td>Apache Spart</td></tr>\n    <tr><td>RStudio</td></tr>\n    <tr><td>Anacoda</td></tr>\n    <tr><td>TensorFlow</td></tr>\n</table>",
      "metadata": {},
      "id": "096ac025-accf-4c39-bebb-230404473db0"
    },
    {
      "cell_type": "markdown",
      "source": "<h3>Below are a few examples of evaluating arithmetic expressions in Python.</h3>",
      "metadata": {},
      "id": "c7825496-c85b-4e79-ad63-2965a6666187"
    },
    {
      "cell_type": "code",
      "source": "#This a simple arithmetic expression to mutiply then add integers\n(3*4)+5",
      "metadata": {
        "trusted": true
      },
      "execution_count": 1,
      "outputs": [
        {
          "execution_count": 1,
          "output_type": "execute_result",
          "data": {
            "text/plain": "17"
          },
          "metadata": {}
        }
      ],
      "id": "aaaa930a-8db3-4397-ac68-7faf34a58b38"
    },
    {
      "cell_type": "code",
      "source": "#This will convert 200 minutes to hours by diving by 60\n200/60",
      "metadata": {
        "trusted": true
      },
      "execution_count": 2,
      "outputs": [
        {
          "execution_count": 2,
          "output_type": "execute_result",
          "data": {
            "text/plain": "3.3333333333333335"
          },
          "metadata": {}
        }
      ],
      "id": "c117e063-a935-4648-ba26-3f959c009c0f"
    },
    {
      "cell_type": "markdown",
      "source": "<b>Objectives:</b>\n<p>List popular languages for Data Science</p>\n<li>Python</li>\n<li>R</li>\n<li>Hodoob</li>\n",
      "metadata": {},
      "id": "e7acb382-c0b8-453a-b4e5-6818510595f8"
    },
    {
      "cell_type": "markdown",
      "source": "Author : <h2>Saqib Abbasi</h2>",
      "metadata": {},
      "id": "5731928c-9636-4ef4-9f10-e89dfa3246e0"
    },
    {
      "cell_type": "code",
      "source": "",
      "metadata": {},
      "execution_count": null,
      "outputs": [],
      "id": "f84e2ad0-79e0-4333-87af-3423f336452c"
    }
  ]
}